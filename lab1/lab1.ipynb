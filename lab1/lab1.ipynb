{
 "cells": [
  {
   "cell_type": "markdown",
   "metadata": {},
   "source": [
    "## Kratki pregled za Jupyter Notebook"
   ]
  },
  {
   "cell_type": "markdown",
   "metadata": {},
   "source": [
    "Jupyter Notebook je okruženje za kodiranje temeljeno na pregledniku, koje se intenzivno koristi za izradu prototipa i interaktivni razvoj u aplikacijama za podatkovnu znanost. Jupyter Notebook je evolucija starijeg projekta koji se zove IPython Noteboook (ovo je podrijetlo ekstenzije datoteke prijenosnika “.ipynb”), i dok (kao što ime sugerira) Jupyter Notebook podržava jezike koji nisu Python, trenutno Python je daleko najčešći jezik za ove bilježnice. Opće informacije o Jupyter Notebooku i povezanim projektima mogu se pronaći na stranici [Jupyter project page](http://jupyter.org/)."
   ]
  },
  {
   "cell_type": "markdown",
   "metadata": {},
   "source": [
    "Središnja jedinica unutar Jupyter Notebooka su \"ćelije\". Ove ćelije mogu sadržavati kod ili Markdown (jednostavan jezik za oblikovanje, koji također može uključivati stvari poput LaTeX jednadžbe). Padajući izbornik na vrhu zaslona označava vrstu trenutne ćelije.\n",
    "\n",
    "Ćelije s kodovima mogu se izvršiti pritiskom na gumb ▶❚ na vrhu bilježnice ili češće putem naredbi Shift-Enter (izvrši i prijeđi na sljedeću ćeliju) ili Control-Enter (izvrši i ostani na toj ćeliji). Sav Python kod se izvodi u jednom radnom Python okruženju, koje se zove \"Kernel\" u Jupyter bilježnici. Varijable se dijele u svim ćelijama, a kod se izvršava redoslijedom kojim se ćelije izvode (ne nužno sekvencijalno u bilježnici), što vašu bilježnicu može dovesti u prilično zbunjujuća stanja ako ćelije ne izvršavate uvijek redom.\n",
    "\n",
    "Pogledajmo nekoliko primjera."
   ]
  },
  {
   "cell_type": "code",
   "execution_count": 3,
   "metadata": {},
   "outputs": [
    {
     "data": {
      "text/plain": [
       "3"
      ]
     },
     "execution_count": 3,
     "metadata": {},
     "output_type": "execute_result"
    }
   ],
   "source": [
    "1+2"
   ]
  },
  {
   "cell_type": "code",
   "execution_count": 4,
   "metadata": {},
   "outputs": [],
   "source": [
    "a = 1.0\n",
    "b = 2.0"
   ]
  },
  {
   "cell_type": "code",
   "execution_count": 5,
   "metadata": {},
   "outputs": [
    {
     "name": "stdout",
     "output_type": "stream",
     "text": [
      "1.0\n"
     ]
    },
    {
     "data": {
      "text/plain": [
       "2.0"
      ]
     },
     "execution_count": 5,
     "metadata": {},
     "output_type": "execute_result"
    }
   ],
   "source": [
    "print(a)\n",
    "b"
   ]
  },
  {
   "cell_type": "code",
   "execution_count": null,
   "metadata": {},
   "outputs": [],
   "source": [
    "for i in range(10):\n",
    "    print(i)"
   ]
  },
  {
   "cell_type": "markdown",
   "metadata": {},
   "source": [
    "Sve naredbe za `print` ispisat će se u odjeljak izlaza iz ćelije, a izlaz će također sadržavati string reprezentaciju objekta koju vraća zadnji red u ćeliji. Dakle, u gornjoj postavci gdje se varijabla `b` pojavljuje u zadnjem retku ćelije, njen sadržaj se ispisuje na kraju izlaza ćelije, nakon svih prethodnih naredbi za ispis koje su se dogodile prije.\n",
    "\n",
    "Bilo koji Python kod bit će valjan u tim ćelijama, tako da možemo uvesti vanjske biblioteke, definirati klase i funkcije itd."
   ]
  },
  {
   "cell_type": "code",
   "execution_count": null,
   "metadata": {},
   "outputs": [],
   "source": [
    "import requests"
   ]
  },
  {
   "cell_type": "code",
   "execution_count": null,
   "metadata": {},
   "outputs": [],
   "source": [
    "def square(x):\n",
    "    \"\"\"Square the input x\"\"\"\n",
    "    return x*x"
   ]
  },
  {
   "cell_type": "code",
   "execution_count": null,
   "metadata": {},
   "outputs": [],
   "source": [
    "square(4)"
   ]
  },
  {
   "cell_type": "markdown",
   "metadata": {},
   "source": [
    "### Cell magics\n",
    "\n",
    "Osim pokretanja Python koda, Jupyter Notebook ima neke ugrađene rutine za izvođenje operacija izvan Pythona, mjerenje vremena ili analizu izvođenja koda, itd. Ovim \"cell magics\" prethodi `%` (na početku retka ... ovo je tehnički se naziva \"linijska magija\") za single line cell magic i `%%` na početku ćelije za cell magics cjalokupne ćelije. Nećemo pokriti mnoge od njih, ali neke su vrlo korisne pa bi se bilo ok upoznati s osnovama. Puno iscrpniji popis se nalazi se ovdje: [Built-in cell magics](http://ipython.readthedocs.io/en/stable/interactive/magics.html).\n",
    "\n",
    "- Vremenske operacije s `%timeit` (za jednu liniju), `%%timeit` (za cijelu ćeliju). Ova naredba će pokrenuti liniju ili ćeliju više puta i dati prosječno vrijeme. Prilagodljiva je, tako da se operacije koje traju manje vremena izvode češće, kako bi se osigurala bolja procjena vremena izvođenja (dakle, vrijeme potrebno za izvođenje ove naredbe nije indikativno za stvarno vrijeme koje je potrebno za izvođenje kod. Ako želite samo mjeriti vrijeme jednog prolaza, koristeći `%time` ili `%%time`."
   ]
  },
  {
   "cell_type": "code",
   "execution_count": null,
   "metadata": {},
   "outputs": [],
   "source": [
    "%time sum(x**2 for x in range(10000))"
   ]
  },
  {
   "cell_type": "markdown",
   "metadata": {},
   "source": [
    "- Izvršite bash naredbe s `%%bash`. Koristite ovo vrlo umjereno."
   ]
  },
  {
   "cell_type": "code",
   "execution_count": null,
   "metadata": {},
   "outputs": [],
   "source": [
    "%%bash\n",
    "ls"
   ]
  },
  {
   "cell_type": "markdown",
   "metadata": {
    "id": "VY48mAXCuRa-"
   },
   "source": [
    "# Uvod u Python\n",
    "\n",
    "Python je moćan interpretirani jezik visoke razine."
   ]
  },
  {
   "cell_type": "markdown",
   "metadata": {
    "id": "qgtLgu0-uplS"
   },
   "source": [
    "## Varijable"
   ]
  },
  {
   "cell_type": "markdown",
   "metadata": {
    "id": "aJ0yODE9dpV6"
   },
   "source": [
    "Cijeli brojevi"
   ]
  },
  {
   "cell_type": "code",
   "execution_count": null,
   "metadata": {
    "id": "EJ4tZ5gYdrOv"
   },
   "outputs": [],
   "source": [
    "a = 1\n",
    "b = 2\n",
    "print(\"Sum, difference, division:\", a + b, a - b, a // b)"
   ]
  },
  {
   "cell_type": "markdown",
   "metadata": {
    "id": "ZPpnUzuudus2"
   },
   "source": [
    "Brojevi s pomičnim zarezom"
   ]
  },
  {
   "cell_type": "code",
   "execution_count": null,
   "metadata": {
    "id": "oRM7cXildxrf"
   },
   "outputs": [],
   "source": [
    "print(\"Brojevi s pomičnim zarezom:\", 1.0 / 2.0)"
   ]
  },
  {
   "cell_type": "markdown",
   "metadata": {
    "id": "Q6IzYW72d2Na"
   },
   "source": [
    "Kompleksni brojevi"
   ]
  },
  {
   "cell_type": "code",
   "execution_count": null,
   "metadata": {
    "id": "3ooBQ-HAd4R-"
   },
   "outputs": [],
   "source": [
    "print(\"Kompleksni brojevi:\", 1.0 + 1.0j)"
   ]
  },
  {
   "cell_type": "markdown",
   "metadata": {
    "id": "aRtsNkxLd7AB"
   },
   "source": [
    "Booleans"
   ]
  },
  {
   "cell_type": "code",
   "execution_count": null,
   "metadata": {
    "id": "mzvtZ2RceARU"
   },
   "outputs": [],
   "source": [
    "a = True\n",
    "b = False\n",
    "print(\"Boolean operations:\", a or b, a and b, not a)"
   ]
  },
  {
   "cell_type": "markdown",
   "metadata": {
    "id": "uVzLWAp7eCch"
   },
   "source": [
    "Stringovi"
   ]
  },
  {
   "cell_type": "code",
   "execution_count": null,
   "metadata": {
    "id": "jx9zZkzSeHH1"
   },
   "outputs": [],
   "source": [
    "a = \"Ovo je string u Pythonu\"\n",
    "print(\"String:\", a)"
   ]
  },
  {
   "cell_type": "markdown",
   "metadata": {
    "id": "kgTGxeOFeLd1"
   },
   "source": [
    "Mogu se upotrebljavati i jednostruki navodnici"
   ]
  },
  {
   "cell_type": "code",
   "execution_count": null,
   "metadata": {
    "id": "EkSoAMuJeIlX"
   },
   "outputs": [],
   "source": [
    "a = 'Ovo je takodjer string'\n",
    "a"
   ]
  },
  {
   "cell_type": "markdown",
   "metadata": {
    "id": "IvlWLUGLePla"
   },
   "source": [
    "Dugačak string se može razdijeliti na sljedeći način"
   ]
  },
  {
   "cell_type": "code",
   "execution_count": null,
   "metadata": {
    "id": "Kv_M49fpeS0E"
   },
   "outputs": [],
   "source": [
    "a = (\"Veoma Veoma Veoma \"\n",
    "     \"dugacak dugacak dugacak \"\n",
    "     \"string u Pythonu\"\n",
    "    )\n",
    "a"
   ]
  },
  {
   "cell_type": "markdown",
   "metadata": {
    "id": "-_UfrpwQeXi4"
   },
   "source": [
    "Ili uspotrebljavajte multiline string"
   ]
  },
  {
   "cell_type": "code",
   "execution_count": null,
   "metadata": {
    "id": "uAMadNw5eZQ7"
   },
   "outputs": [],
   "source": [
    "a = \"\"\"ovo\n",
    "je\n",
    "multiline \n",
    "string\"\"\"\n",
    "a"
   ]
  },
  {
   "cell_type": "markdown",
   "metadata": {
    "id": "OJXyqzJ_ehNm"
   },
   "source": [
    "Konkatenacija Stringa"
   ]
  },
  {
   "cell_type": "code",
   "execution_count": null,
   "metadata": {
    "id": "wxNX3yCOejzb"
   },
   "outputs": [],
   "source": [
    "\"str\" + \"ing\""
   ]
  },
  {
   "cell_type": "markdown",
   "metadata": {
    "id": "gyJYt_dJepTs"
   },
   "source": [
    "Jedna od korisnih string metoda:"
   ]
  },
  {
   "cell_type": "code",
   "execution_count": null,
   "metadata": {
    "id": "TfkggKXletFA"
   },
   "outputs": [],
   "source": [
    "print(\"string\".startswith(\"str\"))"
   ]
  },
  {
   "cell_type": "markdown",
   "metadata": {
    "id": "vtQDPYB-fY7x"
   },
   "source": [
    "Testirajte sljedeće metode: `.endswith`, `.join`, `.capitalize`"
   ]
  },
  {
   "cell_type": "markdown",
   "metadata": {
    "id": "rWnykIjkfhly"
   },
   "source": [
    "String formatting"
   ]
  },
  {
   "cell_type": "code",
   "execution_count": null,
   "metadata": {
    "id": "PToq0omNflP2"
   },
   "outputs": [],
   "source": [
    "\"This is a number {}, this is another number {}!\".format(10, 20)"
   ]
  },
  {
   "cell_type": "markdown",
   "metadata": {
    "id": "WgYzAHHSf00K"
   },
   "source": [
    "Moguće je specificirati kako je broj formatiran"
   ]
  },
  {
   "cell_type": "code",
   "execution_count": null,
   "metadata": {
    "id": "zGGlXdZQuKnG"
   },
   "outputs": [],
   "source": [
    "\"This is pi {:0.2f}!\".format(3.1415)"
   ]
  },
  {
   "cell_type": "markdown",
   "metadata": {
    "id": "e2UqKCEDf4n9"
   },
   "source": [
    "Format stringovi izgledaju ovako:"
   ]
  },
  {
   "cell_type": "code",
   "execution_count": null,
   "metadata": {
    "id": "vao_Xk17f_BP"
   },
   "outputs": [],
   "source": [
    "f\"This is sum of 2 and 3: {2 + 3}\""
   ]
  },
  {
   "cell_type": "markdown",
   "metadata": {
    "id": "yDBje-obvc9B"
   },
   "source": [
    "## Jednostavne data strukture: lists, maps, sets, tuples\n",
    "\n",
    "Liste are zamišljenje za pohranjivanje vrijednosti u nizu."
   ]
  },
  {
   "cell_type": "markdown",
   "metadata": {
    "id": "qZp9Hx-9hIRC"
   },
   "source": [
    "### Liste"
   ]
  },
  {
   "cell_type": "code",
   "execution_count": null,
   "metadata": {
    "id": "iEO10YjSgEiP"
   },
   "outputs": [],
   "source": [
    "array = [1, 4, 2, 3, 8, 7, 6, 5]\n",
    "array"
   ]
  },
  {
   "cell_type": "code",
   "execution_count": null,
   "metadata": {
    "id": "vTBtlmzlgQUN"
   },
   "outputs": [],
   "source": [
    "array[0]"
   ]
  },
  {
   "cell_type": "code",
   "execution_count": null,
   "metadata": {
    "id": "tBZ0HPHLgeDc"
   },
   "outputs": [],
   "source": [
    "array[1:5]"
   ]
  },
  {
   "cell_type": "code",
   "execution_count": null,
   "metadata": {
    "id": "0FU3YcmKgmWG"
   },
   "outputs": [],
   "source": [
    "array[:5]"
   ]
  },
  {
   "cell_type": "code",
   "execution_count": null,
   "metadata": {
    "id": "2ND4QRgggqbV"
   },
   "outputs": [],
   "source": [
    "array[5:]"
   ]
  },
  {
   "cell_type": "code",
   "execution_count": null,
   "metadata": {
    "id": "8AU5C2aZgxs-"
   },
   "outputs": [],
   "source": [
    "array[2:7:2]"
   ]
  },
  {
   "cell_type": "markdown",
   "metadata": {
    "id": "UFoYM9Vtg33H"
   },
   "source": [
    "Liste mogu sadržavati vrijednosti različitih tipova"
   ]
  },
  {
   "cell_type": "code",
   "execution_count": null,
   "metadata": {
    "id": "sgHBH0SAvcYB"
   },
   "outputs": [],
   "source": [
    "[1, 1e-8, \"Hello\"]"
   ]
  },
  {
   "cell_type": "markdown",
   "metadata": {
    "id": "SPP1Cyajwpfa"
   },
   "source": [
    "### Mape\n",
    "Mape (riječnici) mogu pohraniti odnose između parova vrijednosti"
   ]
  },
  {
   "cell_type": "code",
   "execution_count": null,
   "metadata": {
    "id": "E9B-8IZ2hVJo"
   },
   "outputs": [],
   "source": [
    "m = {\"height\": 100., \n",
    "     \"width\": 20.,\n",
    "     \"depth\": 10.}\n",
    "m"
   ]
  },
  {
   "cell_type": "markdown",
   "metadata": {
    "id": "_sJCy0_chf3h"
   },
   "source": [
    "Dohvaćanje vrijednosti po key-u"
   ]
  },
  {
   "cell_type": "code",
   "execution_count": null,
   "metadata": {
    "id": "RyqblTcihk4i"
   },
   "outputs": [],
   "source": [
    "m[\"width\"]"
   ]
  },
  {
   "cell_type": "markdown",
   "metadata": {
    "id": "GaRxKo1qhmca"
   },
   "source": [
    "Provjera sadrži li mapa key"
   ]
  },
  {
   "cell_type": "code",
   "execution_count": null,
   "metadata": {
    "id": "WqOa9VOZh1OA"
   },
   "outputs": [],
   "source": [
    "\"name\" in m"
   ]
  },
  {
   "cell_type": "markdown",
   "metadata": {
    "id": "s5Zeyapsh6Go"
   },
   "source": [
    "Dodavanje nove key-value para"
   ]
  },
  {
   "cell_type": "code",
   "execution_count": null,
   "metadata": {
    "id": "O7iSJmrah-C1"
   },
   "outputs": [],
   "source": [
    "m[\"name\"] = \"rectangle\""
   ]
  },
  {
   "cell_type": "markdown",
   "metadata": {
    "id": "ILJJI_GFiBOy"
   },
   "source": [
    "Ili zamijeniti postojeći"
   ]
  },
  {
   "cell_type": "code",
   "execution_count": null,
   "metadata": {
    "id": "PMGZPVR3iDcN"
   },
   "outputs": [],
   "source": [
    "m[\"name\"] = \"RECTANGLE\""
   ]
  },
  {
   "cell_type": "markdown",
   "metadata": {
    "id": "0R5Wm0sFiFlp"
   },
   "source": [
    "Izbrisati key/vrijednost"
   ]
  },
  {
   "cell_type": "code",
   "execution_count": null,
   "metadata": {
    "id": "-cMBVYYEiHNT"
   },
   "outputs": [],
   "source": [
    "m.pop(\"name\")"
   ]
  },
  {
   "cell_type": "markdown",
   "metadata": {
    "id": "kdYzR2X0zWNE"
   },
   "source": [
    "### Tuples\n",
    "Tuples su slične listama, ali su nepromjenjivi -- ne mogu se mijenjati"
   ]
  },
  {
   "cell_type": "code",
   "execution_count": null,
   "metadata": {
    "id": "yJSXyvBqzBnc"
   },
   "outputs": [],
   "source": [
    "my_array = [1, 2, 3]\n",
    "my_tuple = (1, 2, 3)\n",
    "\n",
    "# This is OK\n",
    "my_array[0] = 100\n",
    "\n",
    "# This will raise an exception\n",
    "my_tuple[0] = 100"
   ]
  },
  {
   "cell_type": "markdown",
   "metadata": {
    "id": "IBeeqq6u1EP9"
   },
   "source": [
    "### Sets\n",
    "Sets su neuređene zbirke koje podržavaju brzo pretraživanje, umetanje, brisanje i spajanje."
   ]
  },
  {
   "cell_type": "code",
   "execution_count": null,
   "metadata": {
    "id": "I1aeG-bFzuL1"
   },
   "outputs": [],
   "source": [
    "animals = {\"cat\", \"dog\", \"elephant\"}\n",
    "animals"
   ]
  },
  {
   "cell_type": "markdown",
   "metadata": {
    "id": "IKTFuoVCiU4U"
   },
   "source": [
    "Provjeri je li neki element u setu"
   ]
  },
  {
   "cell_type": "code",
   "execution_count": null,
   "metadata": {
    "id": "M2SRdoJ9iZkt"
   },
   "outputs": [],
   "source": [
    "\"cat\" in animals"
   ]
  },
  {
   "cell_type": "markdown",
   "metadata": {
    "id": "IMPig3GCidQP"
   },
   "source": [
    "Operacije nad setom: union, intersection, itd."
   ]
  },
  {
   "cell_type": "code",
   "execution_count": null,
   "metadata": {
    "id": "zX06oDPPihJY"
   },
   "outputs": [],
   "source": [
    "animals.union({\"zebra\", \"llama\"})"
   ]
  },
  {
   "cell_type": "markdown",
   "metadata": {
    "id": "do27WDEZ1rKc"
   },
   "source": [
    "## Control flow"
   ]
  },
  {
   "cell_type": "markdown",
   "metadata": {
    "id": "ZRLfl1pTkw8w"
   },
   "source": [
    "if / elif"
   ]
  },
  {
   "cell_type": "code",
   "execution_count": null,
   "metadata": {
    "id": "6RNIP5pmk0a9"
   },
   "outputs": [],
   "source": [
    "a = int(input())\n",
    "if a > 6:\n",
    "    print(\"a is greater than 6\")\n",
    "elif a < 3:\n",
    "    print(\"a is less than 3\")\n",
    "else:\n",
    "    print(\"a is between 3 and 6\")"
   ]
  },
  {
   "cell_type": "markdown",
   "metadata": {
    "id": "iF11czrvk9Ve"
   },
   "source": [
    "Petlje"
   ]
  },
  {
   "cell_type": "code",
   "execution_count": null,
   "metadata": {
    "id": "0FKPTPIklBuR"
   },
   "outputs": [],
   "source": [
    "for i in [1, 2, 3, 4]:\n",
    "    print(i)"
   ]
  },
  {
   "cell_type": "markdown",
   "metadata": {},
   "source": [
    "Range"
   ]
  },
  {
   "cell_type": "code",
   "execution_count": null,
   "metadata": {},
   "outputs": [],
   "source": [
    "# Example 1:\n",
    "for i in range(10):\n",
    "    print(i)\n",
    "\n",
    "# Example 2:\n",
    "for i in range(1,10):\n",
    "    print(i)\n",
    "\n",
    "# Example 3:\n",
    "for i in range(1,10,2):\n",
    "    print(i)\n",
    "\n",
    "# Example 4:\n",
    "for i in range(20,10,-3):\n",
    "    print(i)"
   ]
  },
  {
   "cell_type": "markdown",
   "metadata": {},
   "source": [
    "Enumerate"
   ]
  },
  {
   "cell_type": "code",
   "execution_count": null,
   "metadata": {},
   "outputs": [],
   "source": [
    "# https://realpython.com/python-enumerate/\n",
    "\n",
    "values = [\"a\", \"b\", \"c\"]\n",
    "\n",
    "for count, value in enumerate(values):\n",
    "    print(count, value)"
   ]
  },
  {
   "cell_type": "markdown",
   "metadata": {},
   "source": [
    "zip"
   ]
  },
  {
   "cell_type": "code",
   "execution_count": null,
   "metadata": {},
   "outputs": [],
   "source": [
    "letters = ['a', 'b', 'c']\n",
    "numbers = [0, 1, 2]\n",
    "for l, n in zip(letters, numbers):\n",
    "    print(f'Letter: {l}')\n",
    "    print(f'Number: {n}')"
   ]
  },
  {
   "cell_type": "markdown",
   "metadata": {
    "id": "DEXi6o3KlSTw"
   },
   "source": [
    "Iteracije rječnika"
   ]
  },
  {
   "cell_type": "code",
   "execution_count": null,
   "metadata": {
    "id": "l4j34y5klVQD"
   },
   "outputs": [],
   "source": [
    "for k, v in m.items():\n",
    "    print(k, v)"
   ]
  },
  {
   "cell_type": "markdown",
   "metadata": {
    "id": "_82guvm2lb4Y"
   },
   "source": [
    "While petlja\n",
    "\n",
    "*Veoma rijetko se upotrebljava while petlja. Sljedeći primjer nije krakterističan za python!*"
   ]
  },
  {
   "cell_type": "code",
   "execution_count": null,
   "metadata": {
    "id": "_xAlRHDNlcsV"
   },
   "outputs": [],
   "source": [
    "stop = False\n",
    "i = 10\n",
    "while not stop:\n",
    "    i += 1\n",
    "    if i % 10 == 0:\n",
    "        stop = True\n",
    "        \n",
    "print(i)"
   ]
  },
  {
   "cell_type": "markdown",
   "metadata": {
    "id": "1XOUcES3U_7g"
   },
   "source": [
    "## List comprehensions"
   ]
  },
  {
   "cell_type": "code",
   "execution_count": null,
   "metadata": {},
   "outputs": [],
   "source": [
    "i = []\n",
    "for j in [1, 2, 3]:\n",
    "    i.append(j+1)\n",
    "i"
   ]
  },
  {
   "cell_type": "code",
   "execution_count": null,
   "metadata": {
    "id": "2ii1YsF1VFQt"
   },
   "outputs": [],
   "source": [
    "[i + 1 for i in [1, 2, 3]]"
   ]
  },
  {
   "cell_type": "markdown",
   "metadata": {
    "id": "sP1oejrKVUIo"
   },
   "source": [
    "Radi i za rječnike također"
   ]
  },
  {
   "cell_type": "code",
   "execution_count": null,
   "metadata": {
    "id": "adCDsD7CVOXi"
   },
   "outputs": [],
   "source": [
    "{str(i): i + 1 for i in [1, 2, 3]}"
   ]
  },
  {
   "cell_type": "markdown",
   "metadata": {
    "id": "Hr1sBDl6NBCt"
   },
   "source": [
    "## Funkcije"
   ]
  },
  {
   "cell_type": "markdown",
   "metadata": {
    "id": "GnLRc_CKxFsf"
   },
   "source": [
    "Definiranje funkcija"
   ]
  },
  {
   "cell_type": "code",
   "execution_count": null,
   "metadata": {
    "id": "TZJF3UL2M7fg"
   },
   "outputs": [],
   "source": [
    "def is_odd(a):\n",
    "    return a % 2 == 0\n",
    "\n",
    "is_odd(2)"
   ]
  },
  {
   "cell_type": "markdown",
   "metadata": {
    "id": "lPhb-mFxxNNp"
   },
   "source": [
    "Funkcije mogu biti definirane unutar funkcija"
   ]
  },
  {
   "cell_type": "code",
   "execution_count": null,
   "metadata": {
    "id": "VYbAIDuBxRne"
   },
   "outputs": [],
   "source": [
    "def is_odd(a):\n",
    "    \n",
    "    def is_divisible(number, base):\n",
    "        return number % base == 0\n",
    "    \n",
    "    return is_divisible(a, 2)\n",
    "\n",
    "is_odd(2)"
   ]
  },
  {
   "cell_type": "markdown",
   "metadata": {
    "id": "Hoh9vryhxckA"
   },
   "source": [
    "Možete dodijeliti predefinirane argumente."
   ]
  },
  {
   "cell_type": "code",
   "execution_count": null,
   "metadata": {
    "id": "SbjDzfrVfmF6"
   },
   "outputs": [],
   "source": [
    "def add_or_subtract(first, second, operation=\"sum\"):\n",
    "    if operation == \"sum\":\n",
    "        return first + second\n",
    "    elif operation == \"sub\":\n",
    "        return first - second\n",
    "    else:\n",
    "        print(\"Operation not permitted\")"
   ]
  },
  {
   "cell_type": "markdown",
   "metadata": {
    "id": "1Lp6YB6fxqpP"
   },
   "source": [
    "Varargs: veličina argumenta varijable"
   ]
  },
  {
   "cell_type": "code",
   "execution_count": null,
   "metadata": {
    "id": "181garp6xsKA"
   },
   "outputs": [],
   "source": [
    "def sum_all(*args):\n",
    "    # args is a list of arguments\n",
    "    result = 0\n",
    "    for arg in args:\n",
    "        result += arg\n",
    "    return result\n",
    "\n",
    "# Call vararg function\n",
    "print(\"Sum of all integers up to 10 =\", sum_all(1, 2, 3, 4, 5, 6, 7, 8, 9))"
   ]
  },
  {
   "cell_type": "markdown",
   "metadata": {
    "id": "dmKKnwyox7Ai"
   },
   "source": [
    "Keyword argumenti"
   ]
  },
  {
   "cell_type": "code",
   "execution_count": null,
   "metadata": {
    "id": "WJPliTlnx92u"
   },
   "outputs": [],
   "source": [
    "def print_pairs(**kwargs):\n",
    "    # kwargs is a map\n",
    "    for k, v in kwargs.items():\n",
    "        print(k, v)\n",
    "        \n",
    "print_pairs(a=1, b=2)"
   ]
  },
  {
   "cell_type": "markdown",
   "metadata": {
    "id": "51bg23Fmx-6b"
   },
   "source": [
    "Keyword-only argumenti"
   ]
  },
  {
   "cell_type": "code",
   "execution_count": null,
   "metadata": {
    "id": "RqZwL6WHyHPN"
   },
   "outputs": [],
   "source": [
    "def create_car(*, speed, size):\n",
    "    print(\"Car created with speed\", speed, \"and size\", size)\n",
    "    \n",
    "create_car(speed=9, size=3)"
   ]
  },
  {
   "cell_type": "markdown",
   "metadata": {
    "id": "k3Y-h7EAyYhS"
   },
   "source": [
    "Funkcije kao parametri\n",
    "\n",
    "Moguće je proslijediti funkciju kao argument, pretpostavlja se da operacija ovdje predstavlja funkciju"
   ]
  },
  {
   "cell_type": "code",
   "execution_count": null,
   "metadata": {
    "id": "b_JDJT_6mrqu"
   },
   "outputs": [],
   "source": [
    "def reduce(array, operation):\n",
    "    result = 0\n",
    "    for k, v in enumerate(array):\n",
    "        if k == 0:\n",
    "            result = v\n",
    "        else:\n",
    "            result = operation(v, result)\n",
    "  \n",
    "    return result"
   ]
  },
  {
   "cell_type": "markdown",
   "metadata": {
    "id": "X43dSGaQzHye"
   },
   "source": [
    "Primijenite poziv funkcije sa drugom funkciojm `add_or_subtract`\n"
   ]
  },
  {
   "cell_type": "code",
   "execution_count": null,
   "metadata": {
    "id": "6rE5TSZRzFWW"
   },
   "outputs": [],
   "source": [
    "one_to_nine = [1, 2, 3, 4, 5, 6, 7, 8, 9]\n",
    "print(one_to_nine)\n",
    "\n",
    "print(\"Sum of the array\")\n",
    "#The operation is infered from the default parameter of add_or_subtract\n",
    "reduce(one_to_nine, add_or_subtract)"
   ]
  },
  {
   "cell_type": "markdown",
   "metadata": {
    "id": "8tiErQ4PzdFH"
   },
   "source": [
    "### Lambde\n",
    "\n",
    "Funkcija se može definirati anonimno"
   ]
  },
  {
   "cell_type": "code",
   "execution_count": null,
   "metadata": {
    "id": "a8bWni3hzadd"
   },
   "outputs": [],
   "source": [
    "print(\"Product of the array\")\n",
    "reduce(one_to_nine, lambda x, y : x * y)"
   ]
  },
  {
   "cell_type": "markdown",
   "metadata": {
    "id": "8rBsR8TgzkhS"
   },
   "source": [
    "### Closures\n",
    "\n",
    "Funkcija može vratiti drugu funkciju s određenim ponašanjem ovisno o argumentima"
   ]
  },
  {
   "cell_type": "code",
   "execution_count": null,
   "metadata": {
    "id": "NQ9l5wxZm4SV"
   },
   "outputs": [],
   "source": [
    "def get_loss(op_reduce, op_foreach):\n",
    "  \n",
    "    def loss(a, b):\n",
    "        c = []\n",
    "        for av, bv in zip(a, b):\n",
    "            c.append(op_foreach(av, bv))\n",
    "        return op_reduce(c)\n",
    "  \n",
    "    return loss"
   ]
  },
  {
   "cell_type": "markdown",
   "metadata": {
    "id": "-L5B35yEz4Ic"
   },
   "source": [
    "Ova funkcija može pomoći u definiranju srednje kvadratne pogreške"
   ]
  },
  {
   "cell_type": "code",
   "execution_count": null,
   "metadata": {
    "id": "w4a2_Al4z4qW"
   },
   "outputs": [],
   "source": [
    "mse_loss = get_loss(lambda x : sum(x)/len(x), lambda a, b : (a - b) ** 2)"
   ]
  },
  {
   "cell_type": "markdown",
   "metadata": {
    "id": "jXVJNuY40ARh"
   },
   "source": [
    "Ili srednje apsolutne pogreške"
   ]
  },
  {
   "cell_type": "code",
   "execution_count": null,
   "metadata": {
    "id": "MYcFxRq70A4K"
   },
   "outputs": [],
   "source": [
    "mae_loss = get_loss(lambda x : sum(x)/len(x), lambda a, b : abs(a - b))"
   ]
  },
  {
   "cell_type": "markdown",
   "metadata": {
    "id": "FDKP5V-c0GY8"
   },
   "source": [
    "Možemo provjeriti radi li kao što je predviđeno"
   ]
  },
  {
   "cell_type": "code",
   "execution_count": null,
   "metadata": {
    "id": "oYIyTRmN0G6r"
   },
   "outputs": [],
   "source": [
    "list1 = [0, 1, 1, 3, 0, 2, 3]\n",
    "list2 = [1, 1, 2, 0, 0, 2, 3]\n",
    "\n",
    "list_mse = mse_loss(list1, list2)\n",
    "list_mae = mae_loss(list1, list2)\n",
    "\n",
    "print(\"Two lists:\\n\", list1, \"\\n\", list2)\n",
    "print(\"MSE Loss: {}\\nMAE Loss: {}\".format(list_mse, list_mae))"
   ]
  },
  {
   "cell_type": "markdown",
   "metadata": {
    "id": "LoPGG5zNAjoU"
   },
   "source": [
    "## Exception"
   ]
  },
  {
   "cell_type": "code",
   "execution_count": null,
   "metadata": {
    "id": "eYsGH9tQAlHr"
   },
   "outputs": [],
   "source": [
    "# Throw exception\n",
    "raise Exception\n",
    "\n",
    "raise Exception(\"Something went wrong\")\n",
    "raise ValueError\n",
    "raise IndexError\n",
    "raise StopIteration"
   ]
  },
  {
   "cell_type": "code",
   "execution_count": null,
   "metadata": {
    "id": "IwpCXA3nA3Ap"
   },
   "outputs": [],
   "source": [
    "# Catch exceptions\n",
    "try:\n",
    "    raise ValueError\n",
    "except ValueError:\n",
    "    print(\"Do something else\")\n",
    "finally:\n",
    "    print(\"This part runs always. It is useful for closing files or \"\n",
    "          \"releasing other resources\")"
   ]
  },
  {
   "cell_type": "markdown",
   "metadata": {
    "id": "p1cOGDXHCR-O"
   },
   "source": [
    "## Klase"
   ]
  },
  {
   "cell_type": "markdown",
   "metadata": {
    "id": "r-PruhWd02K0"
   },
   "source": [
    "Definicija klase"
   ]
  },
  {
   "cell_type": "code",
   "execution_count": null,
   "metadata": {
    "id": "IRXa51OfCPEk"
   },
   "outputs": [],
   "source": [
    "class Shape:\n",
    "    pass"
   ]
  },
  {
   "cell_type": "markdown",
   "metadata": {
    "id": "y93ArCva06GI"
   },
   "source": [
    "`shape` je objekt klase `Shape`"
   ]
  },
  {
   "cell_type": "code",
   "execution_count": null,
   "metadata": {
    "id": "0m2SgTiS06tB"
   },
   "outputs": [],
   "source": [
    "shape = Shape()"
   ]
  },
  {
   "cell_type": "markdown",
   "metadata": {
    "id": "F6zvhV8H1BVA"
   },
   "source": [
    "U legacy python-u se koristio način pisanja\n",
    "```python\n",
    "class Shape(object):\n",
    "```\n",
    "Ovo nije više potrebno\n",
    "osim ako ne očekujete da će netko pokrenuti vaš kod u legacy okruženju"
   ]
  },
  {
   "cell_type": "markdown",
   "metadata": {
    "id": "C-Kvdhg41Ju3"
   },
   "source": [
    "Malo više o definiranju klasa"
   ]
  },
  {
   "cell_type": "code",
   "execution_count": null,
   "metadata": {
    "id": "1tCXVcPAB4YQ"
   },
   "outputs": [],
   "source": [
    "class Shape:\n",
    "    class_field = 9\n",
    "    \n",
    "    def __init__(self, name):\n",
    "        self.name = name\n",
    "        self.value = 42\n",
    "    \n",
    "    def method(self, a):\n",
    "        return a * 2 + self.value\n",
    "\n",
    "shape = Shape(\"UUPZ\")\n",
    "print(shape.name)"
   ]
  },
  {
   "cell_type": "markdown",
   "metadata": {
    "id": "dKU0asYuazOF"
   },
   "source": [
    "## Imports\n",
    "\n",
    "Dodavanje novih paketa u python vrlo je jednostavno i mnogi su paketi dostupni. Ako želite neku biblioteku, velika je vjerojatnost da ju je netko drugi već napisao.\n",
    "\n",
    "Općenito, to izgledao ovako:"
   ]
  },
  {
   "cell_type": "code",
   "execution_count": null,
   "metadata": {
    "id": "VFeYVIqocjsm"
   },
   "outputs": [],
   "source": [
    "import time\n",
    "\n",
    "time.time()"
   ]
  },
  {
   "cell_type": "markdown",
   "metadata": {
    "id": "0pNMsOuJctzb"
   },
   "source": [
    "Možete odrediti koje dijelove paketa želite uvesti"
   ]
  },
  {
   "cell_type": "code",
   "execution_count": null,
   "metadata": {
    "id": "jfy8OQqwcr0A"
   },
   "outputs": [],
   "source": [
    "from time import time, sleep\n",
    "\n",
    "print(time())\n",
    "sleep(2)\n",
    "print(time())"
   ]
  },
  {
   "cell_type": "markdown",
   "metadata": {
    "id": "mSBeBMM-Vi-z"
   },
   "source": [
    "## Druga zanimljiva svojstva"
   ]
  },
  {
   "cell_type": "markdown",
   "metadata": {
    "id": "LrQ4hw8KVliz"
   },
   "source": [
    "Multiple assignment"
   ]
  },
  {
   "cell_type": "code",
   "execution_count": null,
   "metadata": {
    "id": "xq5p8zc9VqW8"
   },
   "outputs": [],
   "source": [
    "a, b = 10, 11"
   ]
  },
  {
   "cell_type": "markdown",
   "metadata": {
    "id": "8M8zrRNkVuHM"
   },
   "source": [
    "It works with any kind of list-like objects!"
   ]
  },
  {
   "cell_type": "code",
   "execution_count": null,
   "metadata": {
    "id": "bKPgc-E2Vxfp"
   },
   "outputs": [],
   "source": [
    "a, b = [10, 11]"
   ]
  },
  {
   "cell_type": "markdown",
   "metadata": {
    "id": "rXH3h0TVVz8r"
   },
   "source": [
    "Starred assignment expressions"
   ]
  },
  {
   "cell_type": "code",
   "execution_count": null,
   "metadata": {
    "id": "ydvlwtxOV819"
   },
   "outputs": [],
   "source": [
    "a, *b = [1, 2, 3, 4]\n",
    "print(b)"
   ]
  },
  {
   "cell_type": "markdown",
   "metadata": {
    "id": "FZ4l0DS_WB5-"
   },
   "source": [
    "Radi za prefikse i sufikse"
   ]
  },
  {
   "cell_type": "code",
   "execution_count": null,
   "metadata": {
    "id": "eX2_V2CRWHLh"
   },
   "outputs": [],
   "source": [
    "*a, b, c = [1, 2, 3, 4]\n",
    "print(a)"
   ]
  },
  {
   "cell_type": "markdown",
   "metadata": {
    "id": "XHmrP9ayaG6X"
   },
   "source": [
    "# Vježbe"
   ]
  },
  {
   "cell_type": "markdown",
   "metadata": {
    "id": "cUE9SvlVdc4_"
   },
   "source": [
    "## Vježba 1\n",
    "\n",
    "Napišite funkciju koja uzorkuje uniformni slučajni broj od `a` do `b`.\n",
    "\n",
    "Koristite funkciju `random.random` iz biblioteke `random`. Dokumentaciju možete pogledati [ovdje](https://docs.python.org/3.7/library/random.html)"
   ]
  },
  {
   "cell_type": "code",
   "execution_count": 58,
   "metadata": {
    "id": "Jy7ND3SRkeCj"
   },
   "outputs": [
    {
     "data": {
      "text/plain": [
       "14.254462112410947"
      ]
     },
     "execution_count": 58,
     "metadata": {},
     "output_type": "execute_result"
    }
   ],
   "source": [
    "import random\n",
    "def sample_one(*, start, end):\n",
    "    return random.random() * (end - start) + start\n",
    "\n",
    "sample_one(start=0, end=20)"
   ]
  },
  {
   "cell_type": "markdown",
   "metadata": {
    "id": "p7CIN4iWr3tx"
   },
   "source": [
    "## Vježba 2\n",
    "\n",
    "Napišite funkciju koja kreira listu duljine `n` sampleova kao što je to navedeno u Vježbi 1"
   ]
  },
  {
   "cell_type": "code",
   "execution_count": 46,
   "metadata": {
    "id": "_UFZLC4ssAm1"
   },
   "outputs": [
    {
     "data": {
      "text/plain": [
       "[11, 18, 9, 17, 14, 4, 9, 6, 4, 11]"
      ]
     },
     "execution_count": 46,
     "metadata": {},
     "output_type": "execute_result"
    }
   ],
   "source": [
    "def sample_many(*, start, end, n):\n",
    "    return [sample_one(start=start, end=end) for _ in range(n)]\n",
    "\n",
    "sample_many(start=1, end=20, n=10)"
   ]
  },
  {
   "cell_type": "markdown",
   "metadata": {
    "id": "bDNxuKNHsI-L"
   },
   "source": [
    "## Vježba 3\n",
    "\n",
    "Napišite funkciju koja računa prosjek popisa brojeva."
   ]
  },
  {
   "cell_type": "code",
   "execution_count": 47,
   "metadata": {
    "id": "vhsHU8qXsH50"
   },
   "outputs": [
    {
     "name": "stdout",
     "output_type": "stream",
     "text": [
      "3.4\n"
     ]
    }
   ],
   "source": [
    "def average(array):\n",
    "    return sum(array) / len(array)\n",
    "\n",
    "print(average([5, 2, 5 ,1, 4]))"
   ]
  },
  {
   "cell_type": "markdown",
   "metadata": {
    "id": "4RS0grGJsUsK"
   },
   "source": [
    "## Vježba 4\n",
    "\n",
    "Napišite funkciju koja kreira `m` lista kao što je navedeno u Vježbi 2 te računa prosjek svake liste"
   ]
  },
  {
   "cell_type": "code",
   "execution_count": 54,
   "metadata": {
    "id": "CCl07aGwsTqY"
   },
   "outputs": [
    {
     "data": {
      "text/plain": [
       "[8.0, 8.3, 8.2, 9.3, 11.5]"
      ]
     },
     "execution_count": 54,
     "metadata": {},
     "output_type": "execute_result"
    }
   ],
   "source": [
    "def create_population(*, start, end, n, size):\n",
    "    arrays = []\n",
    "    for _ in range(n):\n",
    "        arrays.append(sample_many(start=start, end=end, n=size))\n",
    "\n",
    "    return [average(arr) for arr in arrays]\n",
    "\n",
    "create_population(start=1, end=20, n=5, size=10)\n",
    "    "
   ]
  },
  {
   "cell_type": "markdown",
   "metadata": {},
   "source": [
    "## Vježba 5"
   ]
  },
  {
   "cell_type": "markdown",
   "metadata": {
    "id": "u1pZtZ18tr--"
   },
   "source": [
    "Napravite listu prosjeka brojeva između 1.0 i 2.0. Neka je svaka lista veličine 10. Mijenjajte broj prosjeka između 100 do 10000. Prilagodite broj binova u histogramu za najbolju vizualizaciju.\n",
    "\n",
    "Koristite `matplotlib` biblioteku kao što je navedeno:\n",
    "```python\n",
    "from matplotlib import pyplot as plt\n",
    "\n",
    "plt.figure()\n",
    "plt.hist(array, bins=50)\n",
    "plt.show()\n",
    "```"
   ]
  },
  {
   "cell_type": "code",
   "execution_count": 73,
   "metadata": {},
   "outputs": [
    {
     "data": {
      "image/png": "[encoded data removed]",
      "text/plain": [
       "<Figure size 640x480 with 1 Axes>"
      ]
     },
     "metadata": {},
     "output_type": "display_data"
    }
   ],
   "source": [
    "from matplotlib import pyplot as plt\n",
    "\n",
    "array = create_population(start=1.0, end=2.0, n=100000, size=10)\n",
    "\n",
    "plt.figure()\n",
    "plt.hist(array, bins=500)\n",
    "plt.show()\n"
   ]
  },
  {
   "cell_type": "code",
   "execution_count": null,
   "metadata": {
    "id": "3p1R9T9YtprZ"
   },
   "outputs": [],
   "source": []
  }
 ],
 "metadata": {
  "colab": {
   "collapsed_sections": [],
   "provenance": []
  },
  "kernelspec": {
   "display_name": "Python 3.9.10 64-bit",
   "language": "python",
   "name": "python3"
  },
  "language_info": {
   "codemirror_mode": {
    "name": "ipython",
    "version": 3
   },
   "file_extension": ".py",
   "mimetype": "text/x-python",
   "name": "python",
   "nbconvert_exporter": "python",
   "pygments_lexer": "ipython3",
   "version": "3.12.7"
  },
  "vscode": {
   "interpreter": {
    "hash": "b0fa6594d8f4cbf19f97940f81e996739fb7646882a419484c72d19e05852a7e"
   }
  }
 },
 "nbformat": 4,
 "nbformat_minor": 4
}
