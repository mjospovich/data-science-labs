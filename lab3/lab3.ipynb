{
 "cells": [
  {
   "cell_type": "code",
   "execution_count": 2,
   "metadata": {},
   "outputs": [
    {
     "name": "stdout",
     "output_type": "stream",
     "text": [
      "   rank discipline  phd  service   sex  salary\n",
      "0  Prof          B   56       49  Male  186960\n",
      "1  Prof          A   12        6  Male   93000\n",
      "2  Prof          A   23       20  Male  110515\n",
      "3  Prof          A   40       31  Male  131205\n",
      "4  Prof          B   20       18  Male  104800\n"
     ]
    }
   ],
   "source": [
    "import pandas as pd\n",
    "\n",
    "df = pd.read_csv(\"Datasets/Salaries.csv\")\n",
    "first_5 = df.head()\n",
    "last_10 = df.tail(10)\n",
    "\n",
    "print(first_5)"
   ]
  },
  {
   "cell_type": "code",
   "execution_count": 3,
   "metadata": {},
   "outputs": [
    {
     "name": "stdout",
     "output_type": "stream",
     "text": [
      "0    186960\n",
      "1     93000\n",
      "2    110515\n",
      "3    131205\n",
      "4    104800\n",
      "Name: salary, dtype: int64\n"
     ]
    }
   ],
   "source": [
    "salaries_only = df[\"salary\"]\n",
    "ranks_only = df[\"rank\"]\n",
    "print(salaries_only.head())"
   ]
  },
  {
   "cell_type": "code",
   "execution_count": 4,
   "metadata": {},
   "outputs": [
    {
     "name": "stdout",
     "output_type": "stream",
     "text": [
      "Mean salary: 108023.78\n",
      "Max salary: 186960\n"
     ]
    }
   ],
   "source": [
    "max_salariy = salaries_only.max()\n",
    "mean_salariy = round(salaries_only.mean(), 2)\n",
    "print(f\"Mean salary: {mean_salariy}\\nMax salary: {max_salariy}\")"
   ]
  },
  {
   "cell_type": "code",
   "execution_count": 5,
   "metadata": {},
   "outputs": [
    {
     "data": {
      "text/html": [
       "<div>\n",
       "<style scoped>\n",
       "    .dataframe tbody tr th:only-of-type {\n",
       "        vertical-align: middle;\n",
       "    }\n",
       "\n",
       "    .dataframe tbody tr th {\n",
       "        vertical-align: top;\n",
       "    }\n",
       "\n",
       "    .dataframe thead th {\n",
       "        text-align: right;\n",
       "    }\n",
       "</style>\n",
       "<table border=\"1\" class=\"dataframe\">\n",
       "  <thead>\n",
       "    <tr style=\"text-align: right;\">\n",
       "      <th></th>\n",
       "      <th>salary</th>\n",
       "    </tr>\n",
       "    <tr>\n",
       "      <th>sex</th>\n",
       "      <th></th>\n",
       "    </tr>\n",
       "  </thead>\n",
       "  <tbody>\n",
       "    <tr>\n",
       "      <th>Female</th>\n",
       "      <td>101002.410</td>\n",
       "    </tr>\n",
       "    <tr>\n",
       "      <th>Male</th>\n",
       "      <td>115045.154</td>\n",
       "    </tr>\n",
       "  </tbody>\n",
       "</table>\n",
       "</div>"
      ],
      "text/plain": [
       "            salary\n",
       "sex               \n",
       "Female  101002.410\n",
       "Male    115045.154"
      ]
     },
     "execution_count": 5,
     "metadata": {},
     "output_type": "execute_result"
    }
   ],
   "source": [
    "salary_sex = df[[\"sex\", \"salary\"]]\n",
    "grouped_df = salary_sex.groupby([\"sex\"])\n",
    "round(grouped_df.mean(),3)"
   ]
  },
  {
   "cell_type": "code",
   "execution_count": 6,
   "metadata": {},
   "outputs": [
    {
     "data": {
      "text/html": [
       "<div>\n",
       "<style scoped>\n",
       "    .dataframe tbody tr th:only-of-type {\n",
       "        vertical-align: middle;\n",
       "    }\n",
       "\n",
       "    .dataframe tbody tr th {\n",
       "        vertical-align: top;\n",
       "    }\n",
       "\n",
       "    .dataframe thead th {\n",
       "        text-align: right;\n",
       "    }\n",
       "</style>\n",
       "<table border=\"1\" class=\"dataframe\">\n",
       "  <thead>\n",
       "    <tr style=\"text-align: right;\">\n",
       "      <th></th>\n",
       "      <th>air_time</th>\n",
       "      <th>dep_delay</th>\n",
       "    </tr>\n",
       "  </thead>\n",
       "  <tbody>\n",
       "    <tr>\n",
       "      <th>min</th>\n",
       "      <td>20.00000</td>\n",
       "      <td>-43.00000</td>\n",
       "    </tr>\n",
       "    <tr>\n",
       "      <th>mean</th>\n",
       "      <td>150.68646</td>\n",
       "      <td>12.63907</td>\n",
       "    </tr>\n",
       "    <tr>\n",
       "      <th>max</th>\n",
       "      <td>695.00000</td>\n",
       "      <td>1301.00000</td>\n",
       "    </tr>\n",
       "  </tbody>\n",
       "</table>\n",
       "</div>"
      ],
      "text/plain": [
       "       air_time   dep_delay\n",
       "min    20.00000   -43.00000\n",
       "mean  150.68646    12.63907\n",
       "max   695.00000  1301.00000"
      ]
     },
     "execution_count": 6,
     "metadata": {},
     "output_type": "execute_result"
    }
   ],
   "source": [
    "flights = pd.read_csv(\"Datasets/flights.csv\")\n",
    "flights[['air_time', 'dep_delay']].agg(['min', 'mean', 'max'])"
   ]
  },
  {
   "cell_type": "code",
   "execution_count": 7,
   "metadata": {},
   "outputs": [
    {
     "data": {
      "text/html": [
       "<div>\n",
       "<style scoped>\n",
       "    .dataframe tbody tr th:only-of-type {\n",
       "        vertical-align: middle;\n",
       "    }\n",
       "\n",
       "    .dataframe tbody tr th {\n",
       "        vertical-align: top;\n",
       "    }\n",
       "\n",
       "    .dataframe thead th {\n",
       "        text-align: right;\n",
       "    }\n",
       "</style>\n",
       "<table border=\"1\" class=\"dataframe\">\n",
       "  <thead>\n",
       "    <tr style=\"text-align: right;\">\n",
       "      <th></th>\n",
       "      <th>id</th>\n",
       "      <th>last_name</th>\n",
       "      <th>name</th>\n",
       "      <th>role</th>\n",
       "      <th>grade</th>\n",
       "    </tr>\n",
       "  </thead>\n",
       "  <tbody>\n",
       "    <tr>\n",
       "      <th>0</th>\n",
       "      <td>1</td>\n",
       "      <td>Doe</td>\n",
       "      <td>John</td>\n",
       "      <td>Engineer</td>\n",
       "      <td>5</td>\n",
       "    </tr>\n",
       "    <tr>\n",
       "      <th>1</th>\n",
       "      <td>2</td>\n",
       "      <td>Smith</td>\n",
       "      <td>Jane</td>\n",
       "      <td>Manager</td>\n",
       "      <td>4</td>\n",
       "    </tr>\n",
       "    <tr>\n",
       "      <th>2</th>\n",
       "      <td>3</td>\n",
       "      <td>Johnson</td>\n",
       "      <td>Robert</td>\n",
       "      <td>Director</td>\n",
       "      <td>3</td>\n",
       "    </tr>\n",
       "    <tr>\n",
       "      <th>3</th>\n",
       "      <td>4</td>\n",
       "      <td>Brown</td>\n",
       "      <td>Michael</td>\n",
       "      <td>CEO</td>\n",
       "      <td>2</td>\n",
       "    </tr>\n",
       "    <tr>\n",
       "      <th>4</th>\n",
       "      <td>5</td>\n",
       "      <td>Williams</td>\n",
       "      <td>William</td>\n",
       "      <td>CTO</td>\n",
       "      <td>1</td>\n",
       "    </tr>\n",
       "    <tr>\n",
       "      <th>5</th>\n",
       "      <td>6</td>\n",
       "      <td>Jones</td>\n",
       "      <td>David</td>\n",
       "      <td>CFO</td>\n",
       "      <td>5</td>\n",
       "    </tr>\n",
       "    <tr>\n",
       "      <th>6</th>\n",
       "      <td>7</td>\n",
       "      <td>Garcia</td>\n",
       "      <td>Maria</td>\n",
       "      <td>COO</td>\n",
       "      <td>4</td>\n",
       "    </tr>\n",
       "    <tr>\n",
       "      <th>7</th>\n",
       "      <td>8</td>\n",
       "      <td>Miller</td>\n",
       "      <td>Richard</td>\n",
       "      <td>CIO</td>\n",
       "      <td>3</td>\n",
       "    </tr>\n",
       "    <tr>\n",
       "      <th>8</th>\n",
       "      <td>9</td>\n",
       "      <td>Davis</td>\n",
       "      <td>Mary</td>\n",
       "      <td>CMO</td>\n",
       "      <td>2</td>\n",
       "    </tr>\n",
       "    <tr>\n",
       "      <th>9</th>\n",
       "      <td>10</td>\n",
       "      <td>Rodriguez</td>\n",
       "      <td>Linda</td>\n",
       "      <td>CDO</td>\n",
       "      <td>1</td>\n",
       "    </tr>\n",
       "  </tbody>\n",
       "</table>\n",
       "</div>"
      ],
      "text/plain": [
       "   id  last_name     name      role  grade\n",
       "0   1        Doe     John  Engineer      5\n",
       "1   2      Smith     Jane   Manager      4\n",
       "2   3    Johnson   Robert  Director      3\n",
       "3   4      Brown  Michael       CEO      2\n",
       "4   5   Williams  William       CTO      1\n",
       "5   6      Jones    David       CFO      5\n",
       "6   7     Garcia    Maria       COO      4\n",
       "7   8     Miller  Richard       CIO      3\n",
       "8   9      Davis     Mary       CMO      2\n",
       "9  10  Rodriguez    Linda       CDO      1"
      ]
     },
     "execution_count": 7,
     "metadata": {},
     "output_type": "execute_result"
    }
   ],
   "source": [
    "# generate pandas dataset with 10 people with id last name name and role\n",
    "people = pd.DataFrame({\n",
    "    \"id\": range(1, 11),\n",
    "    \"last_name\": [\"Doe\", \"Smith\", \"Johnson\", \"Brown\", \"Williams\", \"Jones\", \"Garcia\", \"Miller\", \"Davis\", \"Rodriguez\"],\n",
    "    \"name\": [\"John\", \"Jane\", \"Robert\", \"Michael\", \"William\", \"David\", \"Maria\", \"Richard\", \"Mary\", \"Linda\"],\n",
    "    \"role\": [\"Engineer\", \"Manager\", \"Director\", \"CEO\", \"CTO\", \"CFO\", \"COO\", \"CIO\", \"CMO\", \"CDO\"]\n",
    "})\n",
    "\n",
    "grades = pd.DataFrame({ \"id\": range(1, 11), \"grade\": [5, 4, 3, 2, 1, 5, 4, 3, 2, 1]})\n",
    "\n",
    "# merge the two datasets\n",
    "people_grades = pd.merge(people, grades, on=\"id\")\n",
    "people_grades\n",
    "\n"
   ]
  }
 ],
 "metadata": {
  "kernelspec": {
   "display_name": "venv",
   "language": "python",
   "name": "python3"
  },
  "language_info": {
   "codemirror_mode": {
    "name": "ipython",
    "version": 3
   },
   "file_extension": ".py",
   "mimetype": "text/x-python",
   "name": "python",
   "nbconvert_exporter": "python",
   "pygments_lexer": "ipython3",
   "version": "3.12.7"
  }
 },
 "nbformat": 4,
 "nbformat_minor": 2
}
